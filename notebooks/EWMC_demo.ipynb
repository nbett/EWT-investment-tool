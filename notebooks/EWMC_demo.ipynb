{
"cells": [
{
"cell_type": "markdown",
"metadata": {},
"source": [
"# EWMC Demo (run in Codespaces)\n",
"This notebook demonstrates Elliott Wave × Monte Carlo on a ticker."
]
},
{
"cell_type": "code",
"execution_count": null,
"metadata": {},
"outputs": [],
"source": [
"import yfinance as yf, pandas as pd\n",
"import matplotlib.pyplot as plt\n",
"from ewmc import zigzag_atr, build_counts, WaveDistributions, MonteCarloEW\n",
"from ewmc import plot_targets, plot_time_to_target, plot_ote_heatmap\n"
]
},
{
"cell_type": "code",
"execution_count": null,
"metadata": {},
"outputs": [],
"source": [
"ticker = 'AAPL'\n",
"df = yf.download(ticker, start='2022-01-01', progress=False)\n",
"df.tail()"
]
},
{
"cell_type": "code",
"execution_count": null,
"metadata": {},
"outputs": [],
"source": [
"pivots = zigzag_atr(df, atr_mult=5.0)\n",
"counts = build_counts(pivots)\n",
"counts"
]
},
{
"cell_type": "code",
"execution_count": null,
"metadata": {},
"outputs": [],
"source": [
"dists = WaveDistributions()\n",
"mc = MonteCarloEW(price0=df['Close'].iloc[-1],\n",
" history_high=df['High'].values,\n",
" history_low=df['Low'].values,\n",
" history_close=df['Close'].values,\n",
" distributions=dists)\n",
"agg = {'hit_1_272':0,'hit_1_618':0,'invalid':0,'tte_1_272':[], 'tte_1_618':[], 'max_drawdown':[], 'ote_first':0}\n",
"for c in counts:\n",
" stats = mc.simulate_count(c['type'], n_paths=3000)\n",
" w = c['weight']\n",
" for k in ['hit_1_272','hit_1_618','invalid','ote_first']:\n",
" agg[k] += w * stats[k]\n",
" agg['tte_1_272'] += stats['tte_1_272']\n",
" agg['tte_1_618'] += stats['tte_1_618']\n",
" agg['max_drawdown'] += stats['max_drawdown']\n",
"agg"
]
},
{
"cell_type": "code",
"execution_count": null,
"metadata": {},
"outputs": [],
"source": [
"plot_targets(agg); plt.show()"
]
},
{
"cell_type": "code",
"execution_count": null,
"metadata": {},
"outputs": [],
"source": [
"plot_time_to_target(agg, 'tte_1_272'); plt.show()"
]
},
{
"cell_type": "code",
"execution_count": null,
"metadata": {},
"outputs": [],
"source": [
"plot_ote_heatmap(agg['ote_first']); plt.show()"
]
}
],
"metadata": {
"kernelspec": {"display_name": "Python 3", "language": "python", "name": "python3"},
"language_info": {"name": "python", "version": "3.11"}
},
"nbformat": 4,
"nbformat_minor": 5
}
